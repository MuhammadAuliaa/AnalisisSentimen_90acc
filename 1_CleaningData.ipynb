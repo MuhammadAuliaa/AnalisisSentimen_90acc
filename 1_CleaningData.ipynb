{
 "cells": [
  {
   "cell_type": "code",
   "execution_count": 1,
   "metadata": {
    "executionInfo": {
     "elapsed": 390,
     "status": "ok",
     "timestamp": 1746194832510,
     "user": {
      "displayName": "Muhammad Aulia",
      "userId": "07442516879104875952"
     },
     "user_tz": -420
    },
    "id": "wRpzq6ReXmj3"
   },
   "outputs": [],
   "source": [
    "import pandas as pd\n",
    "import re"
   ]
  },
  {
   "cell_type": "code",
   "execution_count": 2,
   "metadata": {
    "colab": {
     "base_uri": "https://localhost:8080/",
     "height": 1000
    },
    "executionInfo": {
     "elapsed": 5153,
     "status": "ok",
     "timestamp": 1746194839076,
     "user": {
      "displayName": "Muhammad Aulia",
      "userId": "07442516879104875952"
     },
     "user_tz": -420
    },
    "id": "PqFA0ZOlXn04",
    "outputId": "9f689781-d7d9-49a8-cd7b-08da15135caa"
   },
   "outputs": [
    {
     "data": {
      "text/html": [
       "<div>\n",
       "<style scoped>\n",
       "    .dataframe tbody tr th:only-of-type {\n",
       "        vertical-align: middle;\n",
       "    }\n",
       "\n",
       "    .dataframe tbody tr th {\n",
       "        vertical-align: top;\n",
       "    }\n",
       "\n",
       "    .dataframe thead th {\n",
       "        text-align: right;\n",
       "    }\n",
       "</style>\n",
       "<table border=\"1\" class=\"dataframe\">\n",
       "  <thead>\n",
       "    <tr style=\"text-align: right;\">\n",
       "      <th></th>\n",
       "      <th>Timestamp (ICT)</th>\n",
       "      <th>Timestamp (ICT).1</th>\n",
       "      <th>Timestamp (ICT).2</th>\n",
       "      <th>Received From (Network Name)</th>\n",
       "      <th>Message</th>\n",
       "      <th>Sentiment</th>\n",
       "      <th>Sentiment.1</th>\n",
       "    </tr>\n",
       "  </thead>\n",
       "  <tbody>\n",
       "    <tr>\n",
       "      <th>0</th>\n",
       "      <td>2024-05-01 14:31:37</td>\n",
       "      <td>2024-05-01 14:31:37</td>\n",
       "      <td>2024-05-01 14:31:37</td>\n",
       "      <td>icaly81</td>\n",
       "      <td>🔥🔥</td>\n",
       "      <td>positive</td>\n",
       "      <td>NaN</td>\n",
       "    </tr>\n",
       "    <tr>\n",
       "      <th>1</th>\n",
       "      <td>2024-05-01 15:06:45</td>\n",
       "      <td>2024-05-01 15:06:45</td>\n",
       "      <td>2024-05-01 15:06:45</td>\n",
       "      <td>rajendrasaputroo</td>\n",
       "      <td>Siap siap buat isi full tank bro @adiwibowooo11</td>\n",
       "      <td>positive</td>\n",
       "      <td>NaN</td>\n",
       "    </tr>\n",
       "    <tr>\n",
       "      <th>2</th>\n",
       "      <td>2024-05-01 15:09:46</td>\n",
       "      <td>2024-05-01 15:09:46</td>\n",
       "      <td>2024-05-01 15:09:46</td>\n",
       "      <td>arayyanrizki</td>\n",
       "      <td>Promo tebar undian apa masih bisa ikutan?</td>\n",
       "      <td>unclassified</td>\n",
       "      <td>NaN</td>\n",
       "    </tr>\n",
       "    <tr>\n",
       "      <th>3</th>\n",
       "      <td>2024-05-01 15:14:05</td>\n",
       "      <td>2024-05-01 15:14:05</td>\n",
       "      <td>2024-05-01 15:14:05</td>\n",
       "      <td>sputrii86</td>\n",
       "      <td>Okaaay siaaapp noted 🫠🫶</td>\n",
       "      <td>unclassified</td>\n",
       "      <td>NaN</td>\n",
       "    </tr>\n",
       "    <tr>\n",
       "      <th>4</th>\n",
       "      <td>2024-05-01 16:07:48</td>\n",
       "      <td>2024-05-01 16:07:48</td>\n",
       "      <td>2024-05-01 16:07:48</td>\n",
       "      <td>lily_cantik21</td>\n",
       "      <td>Buat pengguna baru aja gak sih??</td>\n",
       "      <td>unclassified</td>\n",
       "      <td>NaN</td>\n",
       "    </tr>\n",
       "    <tr>\n",
       "      <th>...</th>\n",
       "      <td>...</td>\n",
       "      <td>...</td>\n",
       "      <td>...</td>\n",
       "      <td>...</td>\n",
       "      <td>...</td>\n",
       "      <td>...</td>\n",
       "      <td>...</td>\n",
       "    </tr>\n",
       "    <tr>\n",
       "      <th>7618</th>\n",
       "      <td>2024-12-31 19:37:12</td>\n",
       "      <td>2024-12-31 19:37:12</td>\n",
       "      <td>2024-12-31 19:37:12</td>\n",
       "      <td>lisazwate</td>\n",
       "      <td>Wowww ada promo spesial akhir tahun.</td>\n",
       "      <td>positive</td>\n",
       "      <td>NaN</td>\n",
       "    </tr>\n",
       "    <tr>\n",
       "      <th>7619</th>\n",
       "      <td>2024-12-31 21:13:08</td>\n",
       "      <td>2024-12-31 21:13:08</td>\n",
       "      <td>2024-12-31 21:13:08</td>\n",
       "      <td>hagintasembiring</td>\n",
       "      <td>Kalo gue yang pake bakal keren gak? 😎</td>\n",
       "      <td>positive</td>\n",
       "      <td>NaN</td>\n",
       "    </tr>\n",
       "    <tr>\n",
       "      <th>7620</th>\n",
       "      <td>2024-12-31 21:13:47</td>\n",
       "      <td>2024-12-31 21:13:47</td>\n",
       "      <td>2024-12-31 21:13:47</td>\n",
       "      <td>aland_chann</td>\n",
       "      <td>min abis tukar nanti ambil dimana hadiahnya?</td>\n",
       "      <td>unclassified</td>\n",
       "      <td>NaN</td>\n",
       "    </tr>\n",
       "    <tr>\n",
       "      <th>7621</th>\n",
       "      <td>2024-12-31 21:13:55</td>\n",
       "      <td>2024-12-31 21:13:55</td>\n",
       "      <td>2024-12-31 21:13:55</td>\n",
       "      <td>raja.wirata86</td>\n",
       "      <td>Loh iya toh, besok tahun baruan.</td>\n",
       "      <td>unclassified</td>\n",
       "      <td>NaN</td>\n",
       "    </tr>\n",
       "    <tr>\n",
       "      <th>7622</th>\n",
       "      <td>2024-12-31 21:15:15</td>\n",
       "      <td>2024-12-31 21:15:15</td>\n",
       "      <td>2024-12-31 21:15:15</td>\n",
       "      <td>dewwifortuna17</td>\n",
       "      <td>Udh ga perlu mikir2 lagi deh, mending buruan t...</td>\n",
       "      <td>positive</td>\n",
       "      <td>NaN</td>\n",
       "    </tr>\n",
       "  </tbody>\n",
       "</table>\n",
       "<p>7623 rows × 7 columns</p>\n",
       "</div>"
      ],
      "text/plain": [
       "         Timestamp (ICT)   Timestamp (ICT).1   Timestamp (ICT).2  \\\n",
       "0    2024-05-01 14:31:37 2024-05-01 14:31:37 2024-05-01 14:31:37   \n",
       "1    2024-05-01 15:06:45 2024-05-01 15:06:45 2024-05-01 15:06:45   \n",
       "2    2024-05-01 15:09:46 2024-05-01 15:09:46 2024-05-01 15:09:46   \n",
       "3    2024-05-01 15:14:05 2024-05-01 15:14:05 2024-05-01 15:14:05   \n",
       "4    2024-05-01 16:07:48 2024-05-01 16:07:48 2024-05-01 16:07:48   \n",
       "...                  ...                 ...                 ...   \n",
       "7618 2024-12-31 19:37:12 2024-12-31 19:37:12 2024-12-31 19:37:12   \n",
       "7619 2024-12-31 21:13:08 2024-12-31 21:13:08 2024-12-31 21:13:08   \n",
       "7620 2024-12-31 21:13:47 2024-12-31 21:13:47 2024-12-31 21:13:47   \n",
       "7621 2024-12-31 21:13:55 2024-12-31 21:13:55 2024-12-31 21:13:55   \n",
       "7622 2024-12-31 21:15:15 2024-12-31 21:15:15 2024-12-31 21:15:15   \n",
       "\n",
       "     Received From (Network Name)  \\\n",
       "0                         icaly81   \n",
       "1                rajendrasaputroo   \n",
       "2                    arayyanrizki   \n",
       "3                       sputrii86   \n",
       "4                   lily_cantik21   \n",
       "...                           ...   \n",
       "7618                    lisazwate   \n",
       "7619             hagintasembiring   \n",
       "7620                  aland_chann   \n",
       "7621                raja.wirata86   \n",
       "7622               dewwifortuna17   \n",
       "\n",
       "                                                Message     Sentiment  \\\n",
       "0                                                    🔥🔥      positive   \n",
       "1       Siap siap buat isi full tank bro @adiwibowooo11      positive   \n",
       "2             Promo tebar undian apa masih bisa ikutan?  unclassified   \n",
       "3                               Okaaay siaaapp noted 🫠🫶  unclassified   \n",
       "4                      Buat pengguna baru aja gak sih??  unclassified   \n",
       "...                                                 ...           ...   \n",
       "7618               Wowww ada promo spesial akhir tahun.      positive   \n",
       "7619              Kalo gue yang pake bakal keren gak? 😎      positive   \n",
       "7620       min abis tukar nanti ambil dimana hadiahnya?  unclassified   \n",
       "7621                   Loh iya toh, besok tahun baruan.  unclassified   \n",
       "7622  Udh ga perlu mikir2 lagi deh, mending buruan t...      positive   \n",
       "\n",
       "     Sentiment.1  \n",
       "0            NaN  \n",
       "1            NaN  \n",
       "2            NaN  \n",
       "3            NaN  \n",
       "4            NaN  \n",
       "...          ...  \n",
       "7618         NaN  \n",
       "7619         NaN  \n",
       "7620         NaN  \n",
       "7621         NaN  \n",
       "7622         NaN  \n",
       "\n",
       "[7623 rows x 7 columns]"
      ]
     },
     "execution_count": 2,
     "metadata": {},
     "output_type": "execute_result"
    }
   ],
   "source": [
    "df = pd.read_excel('data/dataPertamax2024.xlsx')\n",
    "df"
   ]
  },
  {
   "cell_type": "code",
   "execution_count": 3,
   "metadata": {
    "executionInfo": {
     "elapsed": 1,
     "status": "ok",
     "timestamp": 1746194839078,
     "user": {
      "displayName": "Muhammad Aulia",
      "userId": "07442516879104875952"
     },
     "user_tz": -420
    },
    "id": "gMgaANqSX-Pe"
   },
   "outputs": [],
   "source": [
    "df = df[['Message']]"
   ]
  },
  {
   "cell_type": "markdown",
   "metadata": {
    "id": "WtUBOIcdYtUu"
   },
   "source": [
    "### Menghapus nilai False"
   ]
  },
  {
   "cell_type": "code",
   "execution_count": 4,
   "metadata": {
    "colab": {
     "base_uri": "https://localhost:8080/"
    },
    "executionInfo": {
     "elapsed": 4,
     "status": "ok",
     "timestamp": 1746194841072,
     "user": {
      "displayName": "Muhammad Aulia",
      "userId": "07442516879104875952"
     },
     "user_tz": -420
    },
    "id": "khN7WxczYBMs",
    "outputId": "3d365914-9da2-4bd1-c792-f8a1e4bdac10"
   },
   "outputs": [
    {
     "name": "stderr",
     "output_type": "stream",
     "text": [
      "C:\\Users\\MuhammadAulia\\AppData\\Local\\Temp\\ipykernel_23140\\2119240797.py:2: SettingWithCopyWarning: \n",
      "A value is trying to be set on a copy of a slice from a DataFrame.\n",
      "Try using .loc[row_indexer,col_indexer] = value instead\n",
      "\n",
      "See the caveats in the documentation: https://pandas.pydata.org/pandas-docs/stable/user_guide/indexing.html#returning-a-view-versus-a-copy\n",
      "  df['Message'] = df['Message'].astype(str).str.lower()  # Mengubah teks menjadi lowercase\n",
      "C:\\Users\\MuhammadAulia\\AppData\\Local\\Temp\\ipykernel_23140\\2119240797.py:3: SettingWithCopyWarning: \n",
      "A value is trying to be set on a copy of a slice from a DataFrame.\n",
      "Try using .loc[row_indexer,col_indexer] = value instead\n",
      "\n",
      "See the caveats in the documentation: https://pandas.pydata.org/pandas-docs/stable/user_guide/indexing.html#returning-a-view-versus-a-copy\n",
      "  df['Message'] = df['Message'].replace('false', pd.NA)  # Mengganti 'false' dengan pd.NA (Not Available)\n"
     ]
    }
   ],
   "source": [
    "# Metode 1: Menggunakan drop\n",
    "df['Message'] = df['Message'].astype(str).str.lower()  # Mengubah teks menjadi lowercase\n",
    "df['Message'] = df['Message'].replace('false', pd.NA)  # Mengganti 'false' dengan pd.NA (Not Available)\n",
    "df = df.dropna(subset=['Message'])\n",
    "\n",
    "# Metode 2: Menggunakan boolean indexing\n",
    "df['Message'] = df['Message'].astype(str).str.lower()  # Mengubah teks menjadi lowercase\n",
    "df = df[df['Message'] != 'false']"
   ]
  },
  {
   "cell_type": "code",
   "execution_count": 5,
   "metadata": {
    "colab": {
     "base_uri": "https://localhost:8080/"
    },
    "executionInfo": {
     "elapsed": 3,
     "status": "ok",
     "timestamp": 1746194841147,
     "user": {
      "displayName": "Muhammad Aulia",
      "userId": "07442516879104875952"
     },
     "user_tz": -420
    },
    "id": "Z1dcc7I8Yws2",
    "outputId": "b33b91d9-bcac-4788-f762-b3c143be5f3a"
   },
   "outputs": [
    {
     "data": {
      "text/plain": [
       "(7623, 1)"
      ]
     },
     "execution_count": 5,
     "metadata": {},
     "output_type": "execute_result"
    }
   ],
   "source": [
    "df.shape"
   ]
  },
  {
   "cell_type": "code",
   "execution_count": 6,
   "metadata": {
    "executionInfo": {
     "elapsed": 1,
     "status": "ok",
     "timestamp": 1746194841239,
     "user": {
      "displayName": "Muhammad Aulia",
      "userId": "07442516879104875952"
     },
     "user_tz": -420
    },
    "id": "ub-QVIjJYy29"
   },
   "outputs": [],
   "source": [
    "df = df.drop_duplicates(subset=['Message'])"
   ]
  },
  {
   "cell_type": "code",
   "execution_count": 7,
   "metadata": {
    "colab": {
     "base_uri": "https://localhost:8080/"
    },
    "executionInfo": {
     "elapsed": 104,
     "status": "ok",
     "timestamp": 1746194841438,
     "user": {
      "displayName": "Muhammad Aulia",
      "userId": "07442516879104875952"
     },
     "user_tz": -420
    },
    "id": "RNqae8GoY4CH",
    "outputId": "c4771287-5cb3-47f7-c8b5-8aac03de60e1"
   },
   "outputs": [
    {
     "data": {
      "text/plain": [
       "np.int64(0)"
      ]
     },
     "execution_count": 7,
     "metadata": {},
     "output_type": "execute_result"
    }
   ],
   "source": [
    "df.duplicated().sum()"
   ]
  },
  {
   "cell_type": "code",
   "execution_count": 8,
   "metadata": {
    "executionInfo": {
     "elapsed": 19,
     "status": "ok",
     "timestamp": 1746194841547,
     "user": {
      "displayName": "Muhammad Aulia",
      "userId": "07442516879104875952"
     },
     "user_tz": -420
    },
    "id": "IWpSGCA5Y4ez"
   },
   "outputs": [],
   "source": [
    "df = df.dropna()"
   ]
  },
  {
   "cell_type": "code",
   "execution_count": 9,
   "metadata": {
    "colab": {
     "base_uri": "https://localhost:8080/",
     "height": 147
    },
    "executionInfo": {
     "elapsed": 13,
     "status": "ok",
     "timestamp": 1746194841734,
     "user": {
      "displayName": "Muhammad Aulia",
      "userId": "07442516879104875952"
     },
     "user_tz": -420
    },
    "id": "AAjJ6hJPY6v4",
    "outputId": "1de57b9e-75d6-451a-ead8-dc759b52b010"
   },
   "outputs": [
    {
     "data": {
      "text/plain": [
       "Message    0\n",
       "dtype: int64"
      ]
     },
     "execution_count": 9,
     "metadata": {},
     "output_type": "execute_result"
    }
   ],
   "source": [
    "df.isnull().sum()"
   ]
  },
  {
   "cell_type": "code",
   "execution_count": 10,
   "metadata": {
    "colab": {
     "base_uri": "https://localhost:8080/"
    },
    "executionInfo": {
     "elapsed": 32,
     "status": "ok",
     "timestamp": 1746194841920,
     "user": {
      "displayName": "Muhammad Aulia",
      "userId": "07442516879104875952"
     },
     "user_tz": -420
    },
    "id": "0a788zcCY8be",
    "outputId": "4dd6df8d-f8d5-46e0-e9c6-0ca0c4f9c845"
   },
   "outputs": [
    {
     "data": {
      "text/plain": [
       "(7069, 1)"
      ]
     },
     "execution_count": 10,
     "metadata": {},
     "output_type": "execute_result"
    }
   ],
   "source": [
    "df.shape"
   ]
  },
  {
   "cell_type": "code",
   "execution_count": 11,
   "metadata": {
    "executionInfo": {
     "elapsed": 2070,
     "status": "ok",
     "timestamp": 1746194844769,
     "user": {
      "displayName": "Muhammad Aulia",
      "userId": "07442516879104875952"
     },
     "user_tz": -420
    },
    "id": "kToR4NJCY-Ro"
   },
   "outputs": [],
   "source": [
    "def clean_twitter_text(text):\n",
    "  text = re.sub(r'@[A-Za-z0-9_]+', '', text)\n",
    "  text = re.sub(r'#\\w+', '', text)\n",
    "  text = re.sub(r'RT[\\s]+', '', text)\n",
    "  text = re.sub(r'https?://\\S+', '', text)\n",
    "\n",
    "  text = re.sub(r'[^A-Za-z0-9 ]', '', text)\n",
    "  text = re.sub(r'\\s+', ' ', text).strip()\n",
    "\n",
    "  return text\n",
    "\n",
    "df['Message'] = df['Message'].apply(clean_twitter_text)"
   ]
  },
  {
   "cell_type": "code",
   "execution_count": 12,
   "metadata": {
    "colab": {
     "base_uri": "https://localhost:8080/",
     "height": 423
    },
    "executionInfo": {
     "elapsed": 24,
     "status": "ok",
     "timestamp": 1746194844796,
     "user": {
      "displayName": "Muhammad Aulia",
      "userId": "07442516879104875952"
     },
     "user_tz": -420
    },
    "id": "UJ-pdX_KwfhJ",
    "outputId": "5b824e84-9b5b-490d-b31a-6c35174df2cf"
   },
   "outputs": [
    {
     "data": {
      "text/html": [
       "<div>\n",
       "<style scoped>\n",
       "    .dataframe tbody tr th:only-of-type {\n",
       "        vertical-align: middle;\n",
       "    }\n",
       "\n",
       "    .dataframe tbody tr th {\n",
       "        vertical-align: top;\n",
       "    }\n",
       "\n",
       "    .dataframe thead th {\n",
       "        text-align: right;\n",
       "    }\n",
       "</style>\n",
       "<table border=\"1\" class=\"dataframe\">\n",
       "  <thead>\n",
       "    <tr style=\"text-align: right;\">\n",
       "      <th></th>\n",
       "      <th>Message</th>\n",
       "    </tr>\n",
       "  </thead>\n",
       "  <tbody>\n",
       "    <tr>\n",
       "      <th>0</th>\n",
       "      <td></td>\n",
       "    </tr>\n",
       "    <tr>\n",
       "      <th>1</th>\n",
       "      <td>siap siap buat isi full tank bro</td>\n",
       "    </tr>\n",
       "    <tr>\n",
       "      <th>2</th>\n",
       "      <td>promo tebar undian apa masih bisa ikutan</td>\n",
       "    </tr>\n",
       "    <tr>\n",
       "      <th>3</th>\n",
       "      <td>okaaay siaaapp noted</td>\n",
       "    </tr>\n",
       "    <tr>\n",
       "      <th>4</th>\n",
       "      <td>buat pengguna baru aja gak sih</td>\n",
       "    </tr>\n",
       "    <tr>\n",
       "      <th>...</th>\n",
       "      <td>...</td>\n",
       "    </tr>\n",
       "    <tr>\n",
       "      <th>7618</th>\n",
       "      <td>wowww ada promo spesial akhir tahun</td>\n",
       "    </tr>\n",
       "    <tr>\n",
       "      <th>7619</th>\n",
       "      <td>kalo gue yang pake bakal keren gak</td>\n",
       "    </tr>\n",
       "    <tr>\n",
       "      <th>7620</th>\n",
       "      <td>min abis tukar nanti ambil dimana hadiahnya</td>\n",
       "    </tr>\n",
       "    <tr>\n",
       "      <th>7621</th>\n",
       "      <td>loh iya toh besok tahun baruan</td>\n",
       "    </tr>\n",
       "    <tr>\n",
       "      <th>7622</th>\n",
       "      <td>udh ga perlu mikir2 lagi deh mending buruan tu...</td>\n",
       "    </tr>\n",
       "  </tbody>\n",
       "</table>\n",
       "<p>7069 rows × 1 columns</p>\n",
       "</div>"
      ],
      "text/plain": [
       "                                                Message\n",
       "0                                                      \n",
       "1                      siap siap buat isi full tank bro\n",
       "2              promo tebar undian apa masih bisa ikutan\n",
       "3                                  okaaay siaaapp noted\n",
       "4                        buat pengguna baru aja gak sih\n",
       "...                                                 ...\n",
       "7618                wowww ada promo spesial akhir tahun\n",
       "7619                 kalo gue yang pake bakal keren gak\n",
       "7620        min abis tukar nanti ambil dimana hadiahnya\n",
       "7621                     loh iya toh besok tahun baruan\n",
       "7622  udh ga perlu mikir2 lagi deh mending buruan tu...\n",
       "\n",
       "[7069 rows x 1 columns]"
      ]
     },
     "execution_count": 12,
     "metadata": {},
     "output_type": "execute_result"
    }
   ],
   "source": [
    "df"
   ]
  },
  {
   "cell_type": "code",
   "execution_count": 13,
   "metadata": {},
   "outputs": [],
   "source": [
    "df.to_excel('data/hasilCleaning.xlsx', index=False)"
   ]
  },
  {
   "cell_type": "code",
   "execution_count": null,
   "metadata": {},
   "outputs": [],
   "source": []
  }
 ],
 "metadata": {
  "colab": {
   "authorship_tag": "ABX9TyMeAeDN+Co57gQCU6pKKu4s",
   "mount_file_id": "1TbyAbvL9UV1CGoKSL6nncgekrYSCaFQu",
   "provenance": []
  },
  "kernelspec": {
   "display_name": "Python 3",
   "language": "python",
   "name": "python3"
  },
  "language_info": {
   "codemirror_mode": {
    "name": "ipython",
    "version": 3
   },
   "file_extension": ".py",
   "mimetype": "text/x-python",
   "name": "python",
   "nbconvert_exporter": "python",
   "pygments_lexer": "ipython3",
   "version": "3.12.9"
  }
 },
 "nbformat": 4,
 "nbformat_minor": 0
}
