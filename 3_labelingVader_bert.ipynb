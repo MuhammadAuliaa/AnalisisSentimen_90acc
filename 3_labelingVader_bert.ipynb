{
 "cells": [
  {
   "cell_type": "code",
   "execution_count": 9,
   "id": "927ced45",
   "metadata": {},
   "outputs": [
    {
     "name": "stderr",
     "output_type": "stream",
     "text": [
      "[nltk_data] Downloading package vader_lexicon to\n",
      "[nltk_data]     C:\\Users\\MuhammadAulia\\AppData\\Roaming\\nltk_data...\n"
     ]
    }
   ],
   "source": [
    "import numpy as np\n",
    "import pandas as pd\n",
    "from transformers import pipeline\n",
    "\n",
    "import nltk\n",
    "nltk.download('vader_lexicon')\n",
    "\n",
    "import pandas as pd\n",
    "from nltk.sentiment.vader import SentimentIntensityAnalyzer"
   ]
  },
  {
   "cell_type": "code",
   "execution_count": 3,
   "id": "e6c91223",
   "metadata": {},
   "outputs": [
    {
     "data": {
      "text/html": [
       "<div>\n",
       "<style scoped>\n",
       "    .dataframe tbody tr th:only-of-type {\n",
       "        vertical-align: middle;\n",
       "    }\n",
       "\n",
       "    .dataframe tbody tr th {\n",
       "        vertical-align: top;\n",
       "    }\n",
       "\n",
       "    .dataframe thead th {\n",
       "        text-align: right;\n",
       "    }\n",
       "</style>\n",
       "<table border=\"1\" class=\"dataframe\">\n",
       "  <thead>\n",
       "    <tr style=\"text-align: right;\">\n",
       "      <th></th>\n",
       "      <th>Message</th>\n",
       "    </tr>\n",
       "  </thead>\n",
       "  <tbody>\n",
       "    <tr>\n",
       "      <th>0</th>\n",
       "      <td>siap siap buat isi full tank bro</td>\n",
       "    </tr>\n",
       "    <tr>\n",
       "      <th>1</th>\n",
       "      <td>promo tebar undi apa bisa ikut</td>\n",
       "    </tr>\n",
       "    <tr>\n",
       "      <th>2</th>\n",
       "      <td>oke siap noted</td>\n",
       "    </tr>\n",
       "    <tr>\n",
       "      <th>3</th>\n",
       "      <td>buat guna baru aja sih</td>\n",
       "    </tr>\n",
       "    <tr>\n",
       "      <th>4</th>\n",
       "      <td>ayo ayo</td>\n",
       "    </tr>\n",
       "    <tr>\n",
       "      <th>...</th>\n",
       "      <td>...</td>\n",
       "    </tr>\n",
       "    <tr>\n",
       "      <th>6414</th>\n",
       "      <td>wow promo spesial akhir tahun</td>\n",
       "    </tr>\n",
       "    <tr>\n",
       "      <th>6415</th>\n",
       "      <td>kalo gue pake bakal keren gak</td>\n",
       "    </tr>\n",
       "    <tr>\n",
       "      <th>6416</th>\n",
       "      <td>min abis tukar ambil hadiah</td>\n",
       "    </tr>\n",
       "    <tr>\n",
       "      <th>6417</th>\n",
       "      <td>loh iya besok tahun baru</td>\n",
       "    </tr>\n",
       "    <tr>\n",
       "      <th>6418</th>\n",
       "      <td>tidak perlu mikir deh mending buru tuker poin</td>\n",
       "    </tr>\n",
       "  </tbody>\n",
       "</table>\n",
       "<p>6419 rows × 1 columns</p>\n",
       "</div>"
      ],
      "text/plain": [
       "                                            Message\n",
       "0                  siap siap buat isi full tank bro\n",
       "1                    promo tebar undi apa bisa ikut\n",
       "2                                    oke siap noted\n",
       "3                            buat guna baru aja sih\n",
       "4                                           ayo ayo\n",
       "...                                             ...\n",
       "6414                  wow promo spesial akhir tahun\n",
       "6415                  kalo gue pake bakal keren gak\n",
       "6416                    min abis tukar ambil hadiah\n",
       "6417                       loh iya besok tahun baru\n",
       "6418  tidak perlu mikir deh mending buru tuker poin\n",
       "\n",
       "[6419 rows x 1 columns]"
      ]
     },
     "execution_count": 3,
     "metadata": {},
     "output_type": "execute_result"
    }
   ],
   "source": [
    "df = pd.read_csv('data/hasil_preprocessingData.csv')\n",
    "df"
   ]
  },
  {
   "cell_type": "code",
   "execution_count": 4,
   "id": "ac4ea4e9",
   "metadata": {},
   "outputs": [],
   "source": [
    "# Reset nomor baris data\n",
    "df = df.reset_index(drop=True)"
   ]
  },
  {
   "cell_type": "code",
   "execution_count": 6,
   "id": "082b1d71",
   "metadata": {},
   "outputs": [
    {
     "name": "stdout",
     "output_type": "stream",
     "text": [
      "WARNING:tensorflow:From c:\\Users\\MuhammadAulia\\AppData\\Local\\Programs\\Python\\Python312\\Lib\\site-packages\\tf_keras\\src\\losses.py:2976: The name tf.losses.sparse_softmax_cross_entropy is deprecated. Please use tf.compat.v1.losses.sparse_softmax_cross_entropy instead.\n",
      "\n"
     ]
    },
    {
     "name": "stderr",
     "output_type": "stream",
     "text": [
      "Device set to use cpu\n"
     ]
    }
   ],
   "source": [
    "# Pakai GPU\n",
    "classifier = pipeline(\"sentiment-analysis\", model=\"w11wo/indonesian-roberta-base-sentiment-classifier\", device=-1)\n",
    "\n",
    "# Batch prediction\n",
    "batch_size = 64\n",
    "hasil_label = []\n",
    "\n",
    "for i in range(0, len(df), batch_size):\n",
    "    teks_batch = df['Message'].iloc[i:i+batch_size].tolist()\n",
    "    pred_batch = classifier(teks_batch)\n",
    "    hasil_label.extend([x['label'] for x in pred_batch])\n",
    "\n",
    "df['sentimen_bert'] = hasil_label"
   ]
  },
  {
   "cell_type": "code",
   "execution_count": 13,
   "id": "454b3d52",
   "metadata": {},
   "outputs": [],
   "source": [
    "# Inisialisasi VADER\n",
    "sid = SentimentIntensityAnalyzer()\n",
    "\n",
    "# Fungsi klasifikasi sentimen dengan VADER\n",
    "def vader_sentiment(text):\n",
    "    scores = sid.polarity_scores(text)\n",
    "    compound = scores['compound']\n",
    "    if compound >= 0.05:\n",
    "        return 'positive'\n",
    "    elif compound <= -0.05:\n",
    "        return 'negative'\n",
    "    else:\n",
    "        return 'neutral'\n",
    "\n",
    "# Terapkan ke kolom cleaned_text\n",
    "df['sentimen_vader'] = df['Message'].apply(vader_sentiment)\n"
   ]
  },
  {
   "cell_type": "code",
   "execution_count": 16,
   "id": "414bc3b9",
   "metadata": {},
   "outputs": [
    {
     "data": {
      "text/html": [
       "<div>\n",
       "<style scoped>\n",
       "    .dataframe tbody tr th:only-of-type {\n",
       "        vertical-align: middle;\n",
       "    }\n",
       "\n",
       "    .dataframe tbody tr th {\n",
       "        vertical-align: top;\n",
       "    }\n",
       "\n",
       "    .dataframe thead th {\n",
       "        text-align: right;\n",
       "    }\n",
       "</style>\n",
       "<table border=\"1\" class=\"dataframe\">\n",
       "  <thead>\n",
       "    <tr style=\"text-align: right;\">\n",
       "      <th></th>\n",
       "      <th>Message</th>\n",
       "      <th>sentimen_bert</th>\n",
       "      <th>sentimen_vader</th>\n",
       "    </tr>\n",
       "  </thead>\n",
       "  <tbody>\n",
       "    <tr>\n",
       "      <th>0</th>\n",
       "      <td>siap siap buat isi full tank bro</td>\n",
       "      <td>positive</td>\n",
       "      <td>neutral</td>\n",
       "    </tr>\n",
       "    <tr>\n",
       "      <th>1</th>\n",
       "      <td>promo tebar undi apa bisa ikut</td>\n",
       "      <td>neutral</td>\n",
       "      <td>neutral</td>\n",
       "    </tr>\n",
       "    <tr>\n",
       "      <th>2</th>\n",
       "      <td>oke siap noted</td>\n",
       "      <td>negative</td>\n",
       "      <td>neutral</td>\n",
       "    </tr>\n",
       "    <tr>\n",
       "      <th>3</th>\n",
       "      <td>buat guna baru aja sih</td>\n",
       "      <td>negative</td>\n",
       "      <td>neutral</td>\n",
       "    </tr>\n",
       "    <tr>\n",
       "      <th>4</th>\n",
       "      <td>ayo ayo</td>\n",
       "      <td>positive</td>\n",
       "      <td>neutral</td>\n",
       "    </tr>\n",
       "    <tr>\n",
       "      <th>...</th>\n",
       "      <td>...</td>\n",
       "      <td>...</td>\n",
       "      <td>...</td>\n",
       "    </tr>\n",
       "    <tr>\n",
       "      <th>6414</th>\n",
       "      <td>wow promo spesial akhir tahun</td>\n",
       "      <td>positive</td>\n",
       "      <td>positive</td>\n",
       "    </tr>\n",
       "    <tr>\n",
       "      <th>6415</th>\n",
       "      <td>kalo gue pake bakal keren gak</td>\n",
       "      <td>negative</td>\n",
       "      <td>neutral</td>\n",
       "    </tr>\n",
       "    <tr>\n",
       "      <th>6416</th>\n",
       "      <td>min abis tukar ambil hadiah</td>\n",
       "      <td>neutral</td>\n",
       "      <td>neutral</td>\n",
       "    </tr>\n",
       "    <tr>\n",
       "      <th>6417</th>\n",
       "      <td>loh iya besok tahun baru</td>\n",
       "      <td>negative</td>\n",
       "      <td>neutral</td>\n",
       "    </tr>\n",
       "    <tr>\n",
       "      <th>6418</th>\n",
       "      <td>tidak perlu mikir deh mending buru tuker poin</td>\n",
       "      <td>negative</td>\n",
       "      <td>neutral</td>\n",
       "    </tr>\n",
       "  </tbody>\n",
       "</table>\n",
       "<p>6419 rows × 3 columns</p>\n",
       "</div>"
      ],
      "text/plain": [
       "                                            Message sentimen_bert  \\\n",
       "0                  siap siap buat isi full tank bro      positive   \n",
       "1                    promo tebar undi apa bisa ikut       neutral   \n",
       "2                                    oke siap noted      negative   \n",
       "3                            buat guna baru aja sih      negative   \n",
       "4                                           ayo ayo      positive   \n",
       "...                                             ...           ...   \n",
       "6414                  wow promo spesial akhir tahun      positive   \n",
       "6415                  kalo gue pake bakal keren gak      negative   \n",
       "6416                    min abis tukar ambil hadiah       neutral   \n",
       "6417                       loh iya besok tahun baru      negative   \n",
       "6418  tidak perlu mikir deh mending buru tuker poin      negative   \n",
       "\n",
       "     sentimen_vader  \n",
       "0           neutral  \n",
       "1           neutral  \n",
       "2           neutral  \n",
       "3           neutral  \n",
       "4           neutral  \n",
       "...             ...  \n",
       "6414       positive  \n",
       "6415        neutral  \n",
       "6416        neutral  \n",
       "6417        neutral  \n",
       "6418        neutral  \n",
       "\n",
       "[6419 rows x 3 columns]"
      ]
     },
     "execution_count": 16,
     "metadata": {},
     "output_type": "execute_result"
    }
   ],
   "source": [
    "df"
   ]
  },
  {
   "cell_type": "code",
   "execution_count": null,
   "id": "75daba82",
   "metadata": {},
   "outputs": [],
   "source": [
    "# df.to_csv('data/dataSentimen.csv', index=False)"
   ]
  }
 ],
 "metadata": {
  "kernelspec": {
   "display_name": "Python 3",
   "language": "python",
   "name": "python3"
  },
  "language_info": {
   "codemirror_mode": {
    "name": "ipython",
    "version": 3
   },
   "file_extension": ".py",
   "mimetype": "text/x-python",
   "name": "python",
   "nbconvert_exporter": "python",
   "pygments_lexer": "ipython3",
   "version": "3.12.9"
  }
 },
 "nbformat": 4,
 "nbformat_minor": 5
}
